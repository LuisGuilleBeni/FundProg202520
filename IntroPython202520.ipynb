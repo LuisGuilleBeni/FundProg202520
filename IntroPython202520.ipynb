{
  "nbformat": 4,
  "nbformat_minor": 0,
  "metadata": {
    "colab": {
      "provenance": [],
      "authorship_tag": "ABX9TyOCgJFR204mhfdb3aj7/sHH",
      "include_colab_link": true
    },
    "kernelspec": {
      "name": "python3",
      "display_name": "Python 3"
    },
    "language_info": {
      "name": "python"
    }
  },
  "cells": [
    {
      "cell_type": "markdown",
      "metadata": {
        "id": "view-in-github",
        "colab_type": "text"
      },
      "source": [
        "<a href=\"https://colab.research.google.com/github/LuisGuilleBeni/FundProg202520/blob/main/IntroPython202520.ipynb\" target=\"_parent\"><img src=\"https://colab.research.google.com/assets/colab-badge.svg\" alt=\"Open In Colab\"/></a>"
      ]
    },
    {
      "cell_type": "markdown",
      "source": [
        "# Introduccion a Python\n",
        "## Fundamentos de programacion\n",
        "### Universidad Pontificia Bolivariana - Seccional Monteria\n",
        "\n",
        "**Fecha:** 29 de Agosto de 2025\n",
        "\n",
        "**Presentado por:**  _Luis Benitez_\n",
        "\n",
        "En la siguiente actividad se exploraran los conceptos basicoa de Python.\n",
        "\n"
      ],
      "metadata": {
        "id": "LaMfSWEmZJcq"
      }
    },
    {
      "cell_type": "code",
      "execution_count": 2,
      "metadata": {
        "id": "bmT6FbXUYK_d"
      },
      "outputs": [],
      "source": [
        "# Comentario\n",
        "\n",
        "# Introduccion Python\n",
        "# Los comentarios se crean con el # y se utiliza para:\n",
        "# - Dar contextoo\n",
        "# - Explicar codigo\n",
        "# - Ignorar codigo (pruebas)"
      ]
    },
    {
      "cell_type": "code",
      "source": [
        "# Print\n",
        "\n",
        "# La funciopn print se utiliza para imrpimir un mensaje en consola.\n",
        "\n",
        "print(\"Hola Mundo!\")"
      ],
      "metadata": {
        "colab": {
          "base_uri": "https://localhost:8080/"
        },
        "id": "YHDK_XvydK5i",
        "outputId": "ee6270b1-d53a-4ea3-8cbc-588cd7282ba2"
      },
      "execution_count": 3,
      "outputs": [
        {
          "output_type": "stream",
          "name": "stdout",
          "text": [
            "Hola Mundo!\n"
          ]
        }
      ]
    },
    {
      "cell_type": "code",
      "source": [
        "# Variables\n",
        "\n",
        "# Se utilizan oara \"almacenar\" datos en memoria. Es una referencia a la direccion en memoria donde se almacenan los datos.\n",
        "\n",
        "name = \"Luis\"\n",
        "age = 26\n",
        "height = 1.77\n",
        "city = \"Sampues\"\n",
        "is_sleeping = False\n",
        "\n",
        "print(name, age, height, city, is_sleeping)"
      ],
      "metadata": {
        "colab": {
          "base_uri": "https://localhost:8080/"
        },
        "id": "8DPGdZ7yeakP",
        "outputId": "3d9ab3fc-3dee-41bc-d9c9-ebab94475009"
      },
      "execution_count": 6,
      "outputs": [
        {
          "output_type": "stream",
          "name": "stdout",
          "text": [
            "Luis 26 1.77 Sampues False\n"
          ]
        }
      ]
    },
    {
      "cell_type": "code",
      "source": [
        "# Calculos\n",
        "\n",
        "a = 5\n",
        "b = 2.3\n",
        "c = a + b\n",
        "d = a - b\n",
        "e = a * b\n",
        "f = a / b\n",
        "g = a % b # moudlo: residuo de la division entera de a entre b\n",
        "h = a ** b # potencia: a elevado a la b\n",
        "print(c)\n",
        "print(d)\n",
        "print(e)\n",
        "print(f)\n",
        "print(g)\n",
        "print(h)"
      ],
      "metadata": {
        "colab": {
          "base_uri": "https://localhost:8080/"
        },
        "id": "HODuIegWf_X_",
        "outputId": "a5c2dd8d-103b-4579-f7d5-5e07a75fa75c"
      },
      "execution_count": 9,
      "outputs": [
        {
          "output_type": "stream",
          "name": "stdout",
          "text": [
            "7.3\n",
            "2.7\n",
            "11.5\n",
            "2.173913043478261\n",
            "0.40000000000000036\n",
            "40.51641491731905\n"
          ]
        }
      ]
    },
    {
      "cell_type": "code",
      "source": [
        "# Cambio de valores\n",
        "\n",
        "a = 5\n",
        "print(a)\n",
        "a = 10\n",
        "print(a)"
      ],
      "metadata": {
        "colab": {
          "base_uri": "https://localhost:8080/"
        },
        "id": "lYj9WCddgqVW",
        "outputId": "49e9fe3d-5b16-4b3b-ab45-a538806c8ee5"
      },
      "execution_count": 11,
      "outputs": [
        {
          "output_type": "stream",
          "name": "stdout",
          "text": [
            "5\n",
            "10\n"
          ]
        }
      ]
    },
    {
      "cell_type": "code",
      "source": [
        "# Concatenacion\n",
        "\n",
        "# Concatenar consiste en unir texto (o sumar datos de tipo texto)\n",
        "\n",
        "firstname = \"Luis\"\n",
        "lastname = \"Benitez\"\n",
        "fullname = firstname + \" \" + lastname\n",
        "print(fullname)"
      ],
      "metadata": {
        "colab": {
          "base_uri": "https://localhost:8080/"
        },
        "id": "oiqPym9yjH2z",
        "outputId": "90a542ea-f752-4a04-da7b-4e8eacbe07ce"
      },
      "execution_count": 14,
      "outputs": [
        {
          "output_type": "stream",
          "name": "stdout",
          "text": [
            "Luis Benitez\n"
          ]
        }
      ]
    },
    {
      "cell_type": "code",
      "source": [
        "# Incrementadores (+=, -=, *=, ...)\n",
        "\n",
        "time = 0\n",
        "print(time)\n",
        "time += 1\n",
        "print(time)\n",
        "time -= 2\n",
        "print(time)\n",
        "time *= 3\n",
        "print(time)\n",
        "time /= 4\n",
        "print(time)"
      ],
      "metadata": {
        "colab": {
          "base_uri": "https://localhost:8080/"
        },
        "id": "voL0ty9ZjmDi",
        "outputId": "80d17e91-c281-47e7-e06a-7cb67b8aca58"
      },
      "execution_count": 17,
      "outputs": [
        {
          "output_type": "stream",
          "name": "stdout",
          "text": [
            "0\n",
            "1\n",
            "-1\n",
            "-3\n",
            "-0.75\n"
          ]
        }
      ]
    },
    {
      "cell_type": "code",
      "source": [
        "# Varias lineas de texto\n",
        "\n",
        "song = \"\"\"\n",
        "Chiquitita, Chiquitita, tell me what's wrong\n",
        "You're enchained by your own sorrow\n",
        "In your eyes there is no hope for tomorrow\n",
        "How I hate to see you like this\n",
        "There is no way you can deny it\n",
        "I can see that you're oh so sad, so quiet\n",
        "\"\"\"\n",
        "\n",
        "print(song)"
      ],
      "metadata": {
        "colab": {
          "base_uri": "https://localhost:8080/"
        },
        "id": "rn7xwvGZk6pq",
        "outputId": "e50bae31-21e9-4654-d2b2-a8109cad7af7"
      },
      "execution_count": 18,
      "outputs": [
        {
          "output_type": "stream",
          "name": "stdout",
          "text": [
            "\n",
            "Chiquitita, Chiquitita, tell me what's wrong\n",
            "You're enchained by your own sorrow\n",
            "In your eyes there is no hope for tomorrow\n",
            "How I hate to see you like this\n",
            "There is no way you can deny it\n",
            "I can see that you're oh so sad, so quiet\n",
            "\n"
          ]
        }
      ]
    },
    {
      "cell_type": "code",
      "source": [
        "# Inputs\n",
        "\n",
        "# se utilizan para gestionar entrada de usuario\n",
        "\n",
        "name = input(\"Hola. ¿Cual es tu nombre? \")\n",
        "print(\"Hola\", name, \"mucho gusto\")"
      ],
      "metadata": {
        "colab": {
          "base_uri": "https://localhost:8080/"
        },
        "id": "_VDpsarNmESr",
        "outputId": "84cc9977-afaf-4795-f95f-4a8343ecc6d5"
      },
      "execution_count": 20,
      "outputs": [
        {
          "output_type": "stream",
          "name": "stdout",
          "text": [
            "Hola. ¿Cual es tu nombre? Luis\n",
            "Hola Luis mucho gusto\n"
          ]
        }
      ]
    },
    {
      "cell_type": "code",
      "source": [
        "# Calculat_tiempo\n",
        "# Programa para calcular el tiempo de caida libre\n",
        "\n",
        "G = 9.81\n",
        "# h = 10 # t = 1.4278\n",
        "# h = 20 # t = 2.019\n",
        "# h = 30 # 2.4730\n",
        "h = float(input(\"Ingresa la altura (m): \"))\n",
        "t = (2 * h / G) ** (1 / 2)\n",
        "print(\"El tiempo de caida libre es\", t, \"Segundos.\")"
      ],
      "metadata": {
        "colab": {
          "base_uri": "https://localhost:8080/"
        },
        "id": "Mqzdmp6fm-jo",
        "outputId": "f5586c9a-44d8-4081-8033-c8bc8b1060b1"
      },
      "execution_count": 25,
      "outputs": [
        {
          "output_type": "stream",
          "name": "stdout",
          "text": [
            "Ingresa la altura (m): 30\n",
            "El tiempo de caida libre es 2.4730968341474897 Segundos.\n"
          ]
        }
      ]
    },
    {
      "cell_type": "code",
      "source": [],
      "metadata": {
        "id": "bCyUmxoSss21"
      },
      "execution_count": null,
      "outputs": []
    }
  ]
}